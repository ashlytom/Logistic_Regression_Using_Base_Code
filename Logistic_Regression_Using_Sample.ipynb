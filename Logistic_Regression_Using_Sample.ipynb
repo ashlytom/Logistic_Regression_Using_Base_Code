{
 "cells": [
  {
   "cell_type": "markdown",
   "metadata": {},
   "source": [
    "### Question1:"
   ]
  },
  {
   "cell_type": "raw",
   "metadata": {},
   "source": [
    "Generate a toy Dataset: (-1, -1), (-2, -2), (-2, -1), (-1, -2), (1, 2), (2, 1), (1, 1), (2, 2).\n",
    "Assume that first 4 are from class1 and the next 4 samples are from class2. Build a\n",
    "logistic regression classifier and draw the separating line (the decision boundary)."
   ]
  },
  {
   "cell_type": "code",
   "execution_count": 1,
   "metadata": {},
   "outputs": [
    {
     "data": {
      "text/plain": [
       "array([[ 1., -1., -1.],\n",
       "       [ 1., -2., -2.],\n",
       "       [ 1., -2., -1.],\n",
       "       [ 1., -1., -2.],\n",
       "       [ 1.,  1.,  2.],\n",
       "       [ 1.,  2.,  1.],\n",
       "       [ 1.,  1.,  1.],\n",
       "       [ 1.,  2.,  2.]])"
      ]
     },
     "execution_count": 1,
     "metadata": {},
     "output_type": "execute_result"
    }
   ],
   "source": [
    "\n",
    "import numpy as np\n",
    "import matplotlib.pyplot as plt\n",
    "\n",
    "X = np.array([[-1, -1], [-2, -2], [-2, -1], [-1, -2], [1, 2], [2, 1], [1, 1], [2, 2]])\n",
    "x = X[:,0]\n",
    "Y = np.array([-1,-1,-1,-1,1,1,1,1])\n",
    "# Presence of One provides a more better graphs, more generalized\n",
    "X_origin = np.hstack((np.ones((x.size,1)),X))\n",
    "theta = np.array([0.2, 0.1, 0.6])\n",
    "X_origin"
   ]
  },
  {
   "cell_type": "code",
   "execution_count": 2,
   "metadata": {},
   "outputs": [],
   "source": [
    "def probability(theta_in, x_in):\n",
    "    pred = np.dot(x_in, theta_in)\n",
    "    return 1 / (1 + np.exp(-pred))"
   ]
  },
  {
   "cell_type": "code",
   "execution_count": 3,
   "metadata": {},
   "outputs": [],
   "source": [
    "#solving this equation would give the same gradient equation\n",
    "def cost_function(X1,Y1,thet):\n",
    "    S=np.multiply(Y1,np.log(np.dot(X1,thet)))\n",
    "    L=np.multiply((1-Y1),np.log(1-(np.dot(X1,thet))))\n",
    "    G= -1*(np.sum(S+L)/len(Y1))\n",
    "    #G=(-1/len(Y1))*(np.sum(Y1*np.log(np.dot(X1,thet))+((1-Y1)*(np.log(1-np.dot(X1,thet))))))\n",
    "    return G"
   ]
  },
  {
   "cell_type": "code",
   "execution_count": 4,
   "metadata": {},
   "outputs": [],
   "source": [
    "def gradient_descent(x_train, y_train, theta_i, alpha, iterations):\n",
    "    n = len(y_train)\n",
    "    cost_history = [0] * iterations\n",
    "    for itr in range(iterations):\n",
    "        y_pred = probability(theta_i, x_train)\n",
    "        loss=y_pred-y_train\n",
    "        #Here we take the tranpose so the their result is automatically summed, as they undergo DotProduct. Thus \n",
    "        #removing the need for Summation.\n",
    "        grad = np.dot(np.transpose(x_train),loss)/n\n",
    "        theta_i = theta_i - alpha*grad\n",
    "        cost = cost_function(x_train, y_train, theta_i)\n",
    "        cost_history[itr] = cost\n",
    "        if(cost>cost_history[itr-1]):\n",
    "            alpha = alpha*0.1\n",
    "    return theta_i, cost_history\n",
    "\n",
    "\n"
   ]
  },
  {
   "cell_type": "code",
   "execution_count": 5,
   "metadata": {},
   "outputs": [],
   "source": [
    "#For getting the extremes of the original data to be used to\n",
    "#get the values of the new x and from which we create y. To draw the desicion boundary using our new theta\n",
    "#which spans the extreme of our datapoints.\n",
    "def GetExtremes(Data) :\n",
    "    X_o = Data[:,0]\n",
    "    Y_o = Data[:,1]\n",
    "    return (min(X_o),max(X_o),min(Y_o),max(Y_o))"
   ]
  },
  {
   "cell_type": "code",
   "execution_count": 6,
   "metadata": {},
   "outputs": [],
   "source": [
    "def getLine(DirVect,Data):\n",
    "    (c,A,B)=DirVect\n",
    "    (min_x,max_x,min_y,max_y) = GetExtremes(Data)\n",
    "    x_new = np.arange(min_x, max_x, 0.01)\n",
    "    #Ax1+Bx2+C=0 assuming x2 as y_new\n",
    "    y_new = -(A*x_new + c)/B\n",
    "    return (x_new,y_new)"
   ]
  },
  {
   "cell_type": "code",
   "execution_count": 7,
   "metadata": {},
   "outputs": [
    {
     "name": "stderr",
     "output_type": "stream",
     "text": [
      "<ipython-input-3-d723d954b498>:3: RuntimeWarning: invalid value encountered in log\n",
      "  S=np.multiply(Y1,np.log(np.dot(X1,thet)))\n",
      "<ipython-input-3-d723d954b498>:4: RuntimeWarning: invalid value encountered in log\n",
      "  L=np.multiply((1-Y1),np.log(1-(np.dot(X1,thet))))\n"
     ]
    },
    {
     "data": {
      "text/plain": [
       "array([-0.30183771,  1.00163791,  1.49123869])"
      ]
     },
     "execution_count": 7,
     "metadata": {},
     "output_type": "execute_result"
    }
   ],
   "source": [
    "(theta_new, cost) = gradient_descent(X_origin,Y,theta,0.01,100)\n",
    "theta_new"
   ]
  },
  {
   "cell_type": "code",
   "execution_count": 8,
   "metadata": {},
   "outputs": [
    {
     "data": {
      "text/plain": [
       "[<matplotlib.lines.Line2D at 0x7fbdbb720a30>]"
      ]
     },
     "execution_count": 8,
     "metadata": {},
     "output_type": "execute_result"
    },
    {
     "data": {
      "image/png": "[encoded data removed]",
      "text/plain": [
       "<Figure size 432x288 with 1 Axes>"
      ]
     },
     "metadata": {
      "needs_background": "light"
     },
     "output_type": "display_data"
    }
   ],
   "source": [
    "plt.scatter(X[:,0],X[:,1], s=10)\n",
    "(x_L,y_L) = getLine(theta_new,X)\n",
    "plt.plot(x_L, y_L, '-',color='r')"
   ]
  },
  {
   "cell_type": "code",
   "execution_count": null,
   "metadata": {},
   "outputs": [],
   "source": []
  }
 ],
 "metadata": {
  "kernelspec": {
   "display_name": "Python 3",
   "language": "python",
   "name": "python3"
  },
  "language_info": {
   "codemirror_mode": {
    "name": "ipython",
    "version": 3
   },
   "file_extension": ".py",
   "mimetype": "text/x-python",
   "name": "python",
   "nbconvert_exporter": "python",
   "pygments_lexer": "ipython3",
   "version": "3.8.3"
  }
 },
 "nbformat": 4,
 "nbformat_minor": 4
}
